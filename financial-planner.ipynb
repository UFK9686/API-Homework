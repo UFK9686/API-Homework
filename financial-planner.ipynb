{
 "cells": [
  {
   "cell_type": "markdown",
   "metadata": {},
   "source": [
    "# Unit 5 - Financial Planning\n"
   ]
  },
  {
   "cell_type": "code",
   "execution_count": 1,
   "metadata": {},
   "outputs": [],
   "source": [
    "# Initial imports\n",
    "import os\n",
    "import requests\n",
    "import pandas as pd\n",
    "from dotenv import load_dotenv\n",
    "import alpaca_trade_api as tradeapi\n",
    "from MCForecastTools import MCSimulation\n",
    "\n",
    "%matplotlib inline"
   ]
  },
  {
   "cell_type": "code",
   "execution_count": 14,
   "metadata": {},
   "outputs": [
    {
     "data": {
      "text/plain": [
       "True"
      ]
     },
     "execution_count": 14,
     "metadata": {},
     "output_type": "execute_result"
    }
   ],
   "source": [
    "# Load .env enviroment variables\n",
    "load_dotenv(\"example.env\")"
   ]
  },
  {
   "cell_type": "markdown",
   "metadata": {},
   "source": [
    "## Part 1 - Personal Finance Planner"
   ]
  },
  {
   "cell_type": "markdown",
   "metadata": {},
   "source": [
    "### Collect Crypto Prices Using the `requests` Library"
   ]
  },
  {
   "cell_type": "code",
   "execution_count": 3,
   "metadata": {},
   "outputs": [],
   "source": [
    "# Set current amount of crypto assets\n",
    "# YOUR CODE HERE!\n",
    "my_btc = 1.2\n",
    "my_eth = 5.3"
   ]
  },
  {
   "cell_type": "code",
   "execution_count": 4,
   "metadata": {},
   "outputs": [],
   "source": [
    "# Crypto API URLs\n",
    "btc_url = \"https://api.alternative.me/v2/ticker/Bitcoin/?convert=CAD\"\n",
    "eth_url = \"https://api.alternative.me/v2/ticker/Ethereum/?convert=CAD\""
   ]
  },
  {
   "cell_type": "code",
   "execution_count": 9,
   "metadata": {},
   "outputs": [
    {
     "name": "stdout",
     "output_type": "stream",
     "text": [
      "{\n",
      "    \"data\": {\n",
      "        \"1\": {\n",
      "            \"id\": 1,\n",
      "            \"name\": \"Bitcoin\",\n",
      "            \"symbol\": \"BTC\",\n",
      "            \"website_slug\": \"bitcoin\",\n",
      "            \"rank\": 1,\n",
      "            \"circulating_supply\": 18672431,\n",
      "            \"total_supply\": 18672431,\n",
      "            \"max_supply\": 21000000,\n",
      "            \"quotes\": {\n",
      "                \"USD\": {\n",
      "                    \"price\": 59338.0,\n",
      "                    \"volume_24h\": 47820603185,\n",
      "                    \"market_cap\": 1107918666796,\n",
      "                    \"percentage_change_1h\": -0.0963113082319631,\n",
      "                    \"percentage_change_24h\": 0.302528453371428,\n",
      "                    \"percentage_change_7d\": 7.82212239420679,\n",
      "                    \"percent_change_1h\": -0.0963113082319631,\n",
      "                    \"percent_change_24h\": 0.302528453371428,\n",
      "                    \"percent_change_7d\": 7.82212239420679\n",
      "                },\n",
      "                \"CAD\": {\n",
      "                    \"price\": 74599.7336,\n",
      "                    \"volume_24h\": 60120062324.182,\n",
      "                    \"market_cap\": 1392875347895.93,\n",
      "                    \"percent_change_1h\": -0.0963113082319631,\n",
      "                    \"percent_change_24h\": 0.302528453371428,\n",
      "                    \"percent_change_7d\": 7.82212239420679\n",
      "                }\n",
      "            },\n",
      "            \"last_updated\": 1617460199\n",
      "        }\n",
      "    },\n",
      "    \"metadata\": {\n",
      "        \"timestamp\": 1617460199,\n",
      "        \"num_cryptocurrencies\": 1319,\n",
      "        \"error\": null\n",
      "    }\n",
      "}\n",
      "{\n",
      "    \"data\": {\n",
      "        \"1027\": {\n",
      "            \"id\": 1027,\n",
      "            \"name\": \"Ethereum\",\n",
      "            \"symbol\": \"ETH\",\n",
      "            \"website_slug\": \"ethereum\",\n",
      "            \"rank\": 2,\n",
      "            \"circulating_supply\": 115317494,\n",
      "            \"total_supply\": 115317494,\n",
      "            \"max_supply\": 0,\n",
      "            \"quotes\": {\n",
      "                \"USD\": {\n",
      "                    \"price\": 2109.05,\n",
      "                    \"volume_24h\": 34691254975,\n",
      "                    \"market_cap\": 243402670391,\n",
      "                    \"percentage_change_1h\": -0.101181500042819,\n",
      "                    \"percentage_change_24h\": 3.85162706475063,\n",
      "                    \"percentage_change_7d\": 24.0351156668901,\n",
      "                    \"percent_change_1h\": -0.101181500042819,\n",
      "                    \"percent_change_24h\": 3.85162706475063,\n",
      "                    \"percent_change_7d\": 24.0351156668901\n",
      "                },\n",
      "                \"CAD\": {\n",
      "                    \"price\": 2651.49766,\n",
      "                    \"volume_24h\": 43613845754.57,\n",
      "                    \"market_cap\": 306005837215.565,\n",
      "                    \"percent_change_1h\": -0.101181500042819,\n",
      "                    \"percent_change_24h\": 3.85162706475063,\n",
      "                    \"percent_change_7d\": 24.0351156668901\n",
      "                }\n",
      "            },\n",
      "            \"last_updated\": 1617460134\n",
      "        }\n",
      "    },\n",
      "    \"metadata\": {\n",
      "        \"timestamp\": 1617460134,\n",
      "        \"num_cryptocurrencies\": 1319,\n",
      "        \"error\": null\n",
      "    }\n",
      "}\n",
      "The current value of your 1.2 BTC is $71205.60\n",
      "The current value of your 5.3 ETH is $11177.97\n"
     ]
    }
   ],
   "source": [
    "# Fetch current BTC price\n",
    "# YOUR CODE HERE!\n",
    "response_data_btc = requests.get(btc_url)\n",
    "response_data_btc\n",
    "btc_content = response_data_btc.content\n",
    "btc_content\n",
    "btc_data = response_data_btc.json()\n",
    "import json\n",
    "print(json.dumps(btc_data, indent=4))\n",
    "\n",
    "\n",
    "\n",
    "# Fetch current ETH price\n",
    "# YOUR CODE HERE!]\n",
    "response_data_eth = requests.get(eth_url)\n",
    "eth_content = response_data_eth.content\n",
    "eth_data = response_data_eth.json()\n",
    "import json\n",
    "print(json.dumps(eth_data, indent=4))\n",
    "# Compute current value of my crpto\n",
    "# YOUR CODE HERE!\n",
    "btc_value = btc_data[\"data\"][\"1\"][\"quotes\"][\"USD\"][\"price\"]\n",
    "my_btc_value = my_btc * btc_value\n",
    "eth_value = eth_data[\"data\"][\"1027\"][\"quotes\"][\"USD\"][\"price\"]\n",
    "my_eth_value = my_eth * eth_value\n",
    "# Print current crypto wallet balance\n",
    "print(f\"The current value of your {my_btc} BTC is ${my_btc_value:0.2f}\")\n",
    "print(f\"The current value of your {my_eth} ETH is ${my_eth_value:0.2f}\")"
   ]
  },
  {
   "cell_type": "markdown",
   "metadata": {},
   "source": [
    "### Collect Investments Data Using Alpaca: `SPY` (stocks) and `AGG` (bonds)"
   ]
  },
  {
   "cell_type": "code",
   "execution_count": 10,
   "metadata": {},
   "outputs": [],
   "source": [
    "# Current amount of shares\n",
    "my_agg = 200\n",
    "my_spy = 50"
   ]
  },
  {
   "cell_type": "code",
   "execution_count": 18,
   "metadata": {},
   "outputs": [],
   "source": [
    "# Set Alpaca API key and secret\n",
    "alpaca_api_key = os.getenv(\"ALPACA_API_KEY\")\n",
    "alpaca_secret_key = os.getenv(\"ALPACA_SECRET_KEY\")\n",
    "\n",
    "# Create the Alpaca API object\n",
    "api = tradeapi.REST(alpaca_api_key, alpaca_secret_key, api_version = \"v2\")"
   ]
  },
  {
   "cell_type": "code",
   "execution_count": 23,
   "metadata": {},
   "outputs": [
    {
     "data": {
      "text/html": [
       "<div>\n",
       "<style scoped>\n",
       "    .dataframe tbody tr th:only-of-type {\n",
       "        vertical-align: middle;\n",
       "    }\n",
       "\n",
       "    .dataframe tbody tr th {\n",
       "        vertical-align: top;\n",
       "    }\n",
       "\n",
       "    .dataframe thead tr th {\n",
       "        text-align: left;\n",
       "    }\n",
       "</style>\n",
       "<table border=\"1\" class=\"dataframe\">\n",
       "  <thead>\n",
       "    <tr>\n",
       "      <th></th>\n",
       "      <th colspan=\"5\" halign=\"left\">AGG</th>\n",
       "      <th colspan=\"5\" halign=\"left\">SPY</th>\n",
       "    </tr>\n",
       "    <tr>\n",
       "      <th></th>\n",
       "      <th>open</th>\n",
       "      <th>high</th>\n",
       "      <th>low</th>\n",
       "      <th>close</th>\n",
       "      <th>volume</th>\n",
       "      <th>open</th>\n",
       "      <th>high</th>\n",
       "      <th>low</th>\n",
       "      <th>close</th>\n",
       "      <th>volume</th>\n",
       "    </tr>\n",
       "  </thead>\n",
       "  <tbody>\n",
       "    <tr>\n",
       "      <th>2021-04-01</th>\n",
       "      <td>113.93</td>\n",
       "      <td>114.05</td>\n",
       "      <td>113.83</td>\n",
       "      <td>114.02</td>\n",
       "      <td>9491631</td>\n",
       "      <td>398.4</td>\n",
       "      <td>400.67</td>\n",
       "      <td>398.18</td>\n",
       "      <td>400.53</td>\n",
       "      <td>72714084</td>\n",
       "    </tr>\n",
       "  </tbody>\n",
       "</table>\n",
       "</div>"
      ],
      "text/plain": [
       "               AGG                                     SPY                  \\\n",
       "              open    high     low   close   volume   open    high     low   \n",
       "2021-04-01  113.93  114.05  113.83  114.02  9491631  398.4  400.67  398.18   \n",
       "\n",
       "                              \n",
       "             close    volume  \n",
       "2021-04-01  400.53  72714084  "
      ]
     },
     "execution_count": 23,
     "metadata": {},
     "output_type": "execute_result"
    }
   ],
   "source": [
    "# Format current date as ISO format\n",
    "start_date = pd.Timestamp(\"2021-04-01\", tz=\"America/New_York\").isoformat()\n",
    "end_date = pd.Timestamp(\"2021-04-01\", tz=\"America/New_York\").isoformat()\n",
    "\n",
    "# Set the tickers\n",
    "tickers = [\"AGG\", \"SPY\"]\n",
    "\n",
    "# Set timeframe to '1D' for Alpaca API\n",
    "timeframe = \"1D\"\n",
    "\n",
    "# Get current closing prices for SPY and AGG\n",
    "df_portfolio = api.get_barset( tickers, timeframe, start=start_date, end=end_date,).df\n",
    "\n",
    "# Preview DataFrame and drop Time component of index\n",
    "df_portfolio.index = df_portfolio.index.date\n",
    "df_portfolio\n"
   ]
  },
  {
   "cell_type": "code",
   "execution_count": 24,
   "metadata": {},
   "outputs": [
    {
     "name": "stdout",
     "output_type": "stream",
     "text": [
      "Current AGG closing price: $114.02\n",
      "Current SPY closing price: $400.53\n"
     ]
    }
   ],
   "source": [
    "# Pick AGG and SPY close prices\n",
    "agg_close_price = float(df_portfolio[\"AGG\"][\"close\"])\n",
    "spy_close_price = float(df_portfolio[\"SPY\"][\"close\"])\n",
    "\n",
    "# Print AGG and SPY close prices\n",
    "print(f\"Current AGG closing price: ${agg_close_price}\")\n",
    "print(f\"Current SPY closing price: ${spy_close_price}\")"
   ]
  },
  {
   "cell_type": "code",
   "execution_count": 25,
   "metadata": {},
   "outputs": [
    {
     "name": "stdout",
     "output_type": "stream",
     "text": [
      "The current value of your 50 SPY shares is $20026.50\n",
      "The current value of your 200 AGG shares is $22804.00\n"
     ]
    }
   ],
   "source": [
    "# Compute the current value of shares\n",
    "my_agg_value = my_agg * agg_close_price \n",
    "my_spy_value = my_spy * spy_close_price \n",
    "\n",
    "# Print current value of share\n",
    "print(f\"The current value of your {my_spy} SPY shares is ${my_spy_value:0.2f}\")\n",
    "print(f\"The current value of your {my_agg} AGG shares is ${my_agg_value:0.2f}\")"
   ]
  },
  {
   "cell_type": "markdown",
   "metadata": {},
   "source": [
    "### Savings Health Analysis"
   ]
  },
  {
   "cell_type": "code",
   "execution_count": 33,
   "metadata": {},
   "outputs": [
    {
     "data": {
      "text/html": [
       "<div>\n",
       "<style scoped>\n",
       "    .dataframe tbody tr th:only-of-type {\n",
       "        vertical-align: middle;\n",
       "    }\n",
       "\n",
       "    .dataframe tbody tr th {\n",
       "        vertical-align: top;\n",
       "    }\n",
       "\n",
       "    .dataframe thead th {\n",
       "        text-align: right;\n",
       "    }\n",
       "</style>\n",
       "<table border=\"1\" class=\"dataframe\">\n",
       "  <thead>\n",
       "    <tr style=\"text-align: right;\">\n",
       "      <th></th>\n",
       "      <th>Amount</th>\n",
       "    </tr>\n",
       "  </thead>\n",
       "  <tbody>\n",
       "    <tr>\n",
       "      <th>Crypto</th>\n",
       "      <td>82383.565</td>\n",
       "    </tr>\n",
       "    <tr>\n",
       "      <th>Shares</th>\n",
       "      <td>42830.500</td>\n",
       "    </tr>\n",
       "  </tbody>\n",
       "</table>\n",
       "</div>"
      ],
      "text/plain": [
       "           Amount\n",
       "Crypto  82383.565\n",
       "Shares  42830.500"
      ]
     },
     "execution_count": 33,
     "metadata": {},
     "output_type": "execute_result"
    }
   ],
   "source": [
    "# Set monthly household income\n",
    "monthly_income = 12000\n",
    "total_crypto = my_btc_value + my_eth_value\n",
    "total_shares_value = my_agg_value + my_spy_value\n",
    "data = {'Amount':[total_crypto, total_shares_value]} \n",
    "data\n",
    "# Create savings DataFrame\n",
    "df_savings = pd.DataFrame(data, index =['Crypto', 'Shares']) \n",
    "\n",
    "# Display savings DataFrame\n",
    "df_savings"
   ]
  },
  {
   "cell_type": "code",
   "execution_count": 35,
   "metadata": {},
   "outputs": [
    {
     "data": {
      "text/plain": [
       "<AxesSubplot:title={'center':'Personal Savings'}, ylabel='Amount'>"
      ]
     },
     "execution_count": 35,
     "metadata": {},
     "output_type": "execute_result"
    },
    {
     "data": {
      "image/png": "[encoded data removed]",
      "text/plain": [
       "<Figure size 432x288 with 1 Axes>"
      ]
     },
     "metadata": {},
     "output_type": "display_data"
    }
   ],
   "source": [
    "# Plot savings pie chart\n",
    "df_savings.plot.pie(y=\"Amount\", title=\"Personal Savings\")"
   ]
  },
  {
   "cell_type": "code",
   "execution_count": 39,
   "metadata": {},
   "outputs": [
    {
     "name": "stdout",
     "output_type": "stream",
     "text": [
      "Congratuations! You have enough money in your emergency fund.\n"
     ]
    }
   ],
   "source": [
    "# Set ideal emergency fund\n",
    "emergency_fund = monthly_income * 3\n",
    "\n",
    "# Calculate total amount of savings\n",
    "total_savings = total_crypto + total_shares_value\n",
    "total_savings\n",
    "\n",
    "# Validate saving health\n",
    "if emergency_fund < total_savings:\n",
    "        print(\"Congratuations! You have enough money in your emergency fund.\")\n",
    "elif emergency_fund == total_savings:\n",
    "        print(\"Congratulations! You have reach this financial goal\")\n",
    "else:\n",
    "        print(f\"You are {emergency_fund - total_savings} dollars away from reaching the goal\")"
   ]
  },
  {
   "cell_type": "markdown",
   "metadata": {},
   "source": [
    "## Part 2 - Retirement Planning\n",
    "\n",
    "### Monte Carlo Simulation"
   ]
  },
  {
   "cell_type": "code",
   "execution_count": 41,
   "metadata": {},
   "outputs": [],
   "source": [
    "# Set start and end dates of five years back from today.\n",
    "# Sample results may vary from the solution based on the time frame chosen\n",
    "start_date = pd.Timestamp(\"2016-04-01\", tz=\"America/New_York\").isoformat()\n",
    "end_date = pd.Timestamp(\"2021-04-01\", tz=\"America/New_York\").isoformat()"
   ]
  },
  {
   "cell_type": "code",
   "execution_count": 45,
   "metadata": {},
   "outputs": [
    {
     "data": {
      "text/html": [
       "<div>\n",
       "<style scoped>\n",
       "    .dataframe tbody tr th:only-of-type {\n",
       "        vertical-align: middle;\n",
       "    }\n",
       "\n",
       "    .dataframe tbody tr th {\n",
       "        vertical-align: top;\n",
       "    }\n",
       "\n",
       "    .dataframe thead tr th {\n",
       "        text-align: left;\n",
       "    }\n",
       "</style>\n",
       "<table border=\"1\" class=\"dataframe\">\n",
       "  <thead>\n",
       "    <tr>\n",
       "      <th></th>\n",
       "      <th colspan=\"5\" halign=\"left\">AGG</th>\n",
       "      <th colspan=\"5\" halign=\"left\">SPY</th>\n",
       "    </tr>\n",
       "    <tr>\n",
       "      <th></th>\n",
       "      <th>open</th>\n",
       "      <th>high</th>\n",
       "      <th>low</th>\n",
       "      <th>close</th>\n",
       "      <th>volume</th>\n",
       "      <th>open</th>\n",
       "      <th>high</th>\n",
       "      <th>low</th>\n",
       "      <th>close</th>\n",
       "      <th>volume</th>\n",
       "    </tr>\n",
       "  </thead>\n",
       "  <tbody>\n",
       "    <tr>\n",
       "      <th>2020-11-06</th>\n",
       "      <td>117.81</td>\n",
       "      <td>117.86</td>\n",
       "      <td>117.6699</td>\n",
       "      <td>117.80</td>\n",
       "      <td>5106146</td>\n",
       "      <td>349.93</td>\n",
       "      <td>351.5100</td>\n",
       "      <td>347.65</td>\n",
       "      <td>350.19</td>\n",
       "      <td>58137413</td>\n",
       "    </tr>\n",
       "    <tr>\n",
       "      <th>2020-11-09</th>\n",
       "      <td>117.40</td>\n",
       "      <td>117.47</td>\n",
       "      <td>117.0600</td>\n",
       "      <td>117.24</td>\n",
       "      <td>6073474</td>\n",
       "      <td>363.97</td>\n",
       "      <td>364.3800</td>\n",
       "      <td>354.06</td>\n",
       "      <td>354.54</td>\n",
       "      <td>140613847</td>\n",
       "    </tr>\n",
       "    <tr>\n",
       "      <th>2020-11-10</th>\n",
       "      <td>117.05</td>\n",
       "      <td>117.23</td>\n",
       "      <td>117.0300</td>\n",
       "      <td>117.05</td>\n",
       "      <td>4663301</td>\n",
       "      <td>353.49</td>\n",
       "      <td>355.1800</td>\n",
       "      <td>350.51</td>\n",
       "      <td>354.07</td>\n",
       "      <td>69143380</td>\n",
       "    </tr>\n",
       "    <tr>\n",
       "      <th>2020-11-11</th>\n",
       "      <td>117.06</td>\n",
       "      <td>117.18</td>\n",
       "      <td>117.0200</td>\n",
       "      <td>117.15</td>\n",
       "      <td>3001773</td>\n",
       "      <td>356.40</td>\n",
       "      <td>357.5600</td>\n",
       "      <td>355.06</td>\n",
       "      <td>356.62</td>\n",
       "      <td>45627772</td>\n",
       "    </tr>\n",
       "    <tr>\n",
       "      <th>2020-11-12</th>\n",
       "      <td>117.37</td>\n",
       "      <td>117.63</td>\n",
       "      <td>117.3300</td>\n",
       "      <td>117.62</td>\n",
       "      <td>7438935</td>\n",
       "      <td>355.58</td>\n",
       "      <td>356.7182</td>\n",
       "      <td>351.26</td>\n",
       "      <td>353.28</td>\n",
       "      <td>57393573</td>\n",
       "    </tr>\n",
       "  </tbody>\n",
       "</table>\n",
       "</div>"
      ],
      "text/plain": [
       "               AGG                                        SPY            \\\n",
       "              open    high       low   close   volume    open      high   \n",
       "2020-11-06  117.81  117.86  117.6699  117.80  5106146  349.93  351.5100   \n",
       "2020-11-09  117.40  117.47  117.0600  117.24  6073474  363.97  364.3800   \n",
       "2020-11-10  117.05  117.23  117.0300  117.05  4663301  353.49  355.1800   \n",
       "2020-11-11  117.06  117.18  117.0200  117.15  3001773  356.40  357.5600   \n",
       "2020-11-12  117.37  117.63  117.3300  117.62  7438935  355.58  356.7182   \n",
       "\n",
       "                                       \n",
       "               low   close     volume  \n",
       "2020-11-06  347.65  350.19   58137413  \n",
       "2020-11-09  354.06  354.54  140613847  \n",
       "2020-11-10  350.51  354.07   69143380  \n",
       "2020-11-11  355.06  356.62   45627772  \n",
       "2020-11-12  351.26  353.28   57393573  "
      ]
     },
     "execution_count": 45,
     "metadata": {},
     "output_type": "execute_result"
    }
   ],
   "source": [
    "# Get 5 years' worth of historical data for SPY and AGG\n",
    "tickers = [\"AGG\",\"SPY\"]\n",
    "df_stock_data = api.get_barset(tickers, timeframe, start=start_date, end=end_date).df\n",
    "\n",
    "# Display sample data\n",
    "\n",
    "df_stock_data.index = df_stock_data.index.date\n",
    "df_stock_data.head()"
   ]
  },
  {
   "cell_type": "code",
   "execution_count": 46,
   "metadata": {},
   "outputs": [],
   "source": [
    "# Configuring a Monte Carlo simulation to forecast 30 years cumulative returns\n",
    "MC_Portfolio = MCSimulation(\n",
    "    portfolio_data = df_stock_data,\n",
    "    weights = [.40,.60],\n",
    "    num_simulation = 500,\n",
    "    num_trading_days = 252*30\n",
    ")\n",
    "\n"
   ]
  },
  {
   "cell_type": "code",
   "execution_count": 48,
   "metadata": {},
   "outputs": [
    {
     "data": {
      "text/html": [
       "<div>\n",
       "<style scoped>\n",
       "    .dataframe tbody tr th:only-of-type {\n",
       "        vertical-align: middle;\n",
       "    }\n",
       "\n",
       "    .dataframe tbody tr th {\n",
       "        vertical-align: top;\n",
       "    }\n",
       "\n",
       "    .dataframe thead tr th {\n",
       "        text-align: left;\n",
       "    }\n",
       "</style>\n",
       "<table border=\"1\" class=\"dataframe\">\n",
       "  <thead>\n",
       "    <tr>\n",
       "      <th></th>\n",
       "      <th colspan=\"6\" halign=\"left\">AGG</th>\n",
       "      <th colspan=\"6\" halign=\"left\">SPY</th>\n",
       "    </tr>\n",
       "    <tr>\n",
       "      <th></th>\n",
       "      <th>open</th>\n",
       "      <th>high</th>\n",
       "      <th>low</th>\n",
       "      <th>close</th>\n",
       "      <th>volume</th>\n",
       "      <th>daily_return</th>\n",
       "      <th>open</th>\n",
       "      <th>high</th>\n",
       "      <th>low</th>\n",
       "      <th>close</th>\n",
       "      <th>volume</th>\n",
       "      <th>daily_return</th>\n",
       "    </tr>\n",
       "  </thead>\n",
       "  <tbody>\n",
       "    <tr>\n",
       "      <th>2020-11-06</th>\n",
       "      <td>117.81</td>\n",
       "      <td>117.86</td>\n",
       "      <td>117.6699</td>\n",
       "      <td>117.80</td>\n",
       "      <td>5106146</td>\n",
       "      <td>NaN</td>\n",
       "      <td>349.93</td>\n",
       "      <td>351.5100</td>\n",
       "      <td>347.65</td>\n",
       "      <td>350.19</td>\n",
       "      <td>58137413</td>\n",
       "      <td>NaN</td>\n",
       "    </tr>\n",
       "    <tr>\n",
       "      <th>2020-11-09</th>\n",
       "      <td>117.40</td>\n",
       "      <td>117.47</td>\n",
       "      <td>117.0600</td>\n",
       "      <td>117.24</td>\n",
       "      <td>6073474</td>\n",
       "      <td>-0.004754</td>\n",
       "      <td>363.97</td>\n",
       "      <td>364.3800</td>\n",
       "      <td>354.06</td>\n",
       "      <td>354.54</td>\n",
       "      <td>140613847</td>\n",
       "      <td>0.012422</td>\n",
       "    </tr>\n",
       "    <tr>\n",
       "      <th>2020-11-10</th>\n",
       "      <td>117.05</td>\n",
       "      <td>117.23</td>\n",
       "      <td>117.0300</td>\n",
       "      <td>117.05</td>\n",
       "      <td>4663301</td>\n",
       "      <td>-0.001621</td>\n",
       "      <td>353.49</td>\n",
       "      <td>355.1800</td>\n",
       "      <td>350.51</td>\n",
       "      <td>354.07</td>\n",
       "      <td>69143380</td>\n",
       "      <td>-0.001326</td>\n",
       "    </tr>\n",
       "    <tr>\n",
       "      <th>2020-11-11</th>\n",
       "      <td>117.06</td>\n",
       "      <td>117.18</td>\n",
       "      <td>117.0200</td>\n",
       "      <td>117.15</td>\n",
       "      <td>3001773</td>\n",
       "      <td>0.000854</td>\n",
       "      <td>356.40</td>\n",
       "      <td>357.5600</td>\n",
       "      <td>355.06</td>\n",
       "      <td>356.62</td>\n",
       "      <td>45627772</td>\n",
       "      <td>0.007202</td>\n",
       "    </tr>\n",
       "    <tr>\n",
       "      <th>2020-11-12</th>\n",
       "      <td>117.37</td>\n",
       "      <td>117.63</td>\n",
       "      <td>117.3300</td>\n",
       "      <td>117.62</td>\n",
       "      <td>7438935</td>\n",
       "      <td>0.004012</td>\n",
       "      <td>355.58</td>\n",
       "      <td>356.7182</td>\n",
       "      <td>351.26</td>\n",
       "      <td>353.28</td>\n",
       "      <td>57393573</td>\n",
       "      <td>-0.009366</td>\n",
       "    </tr>\n",
       "  </tbody>\n",
       "</table>\n",
       "</div>"
      ],
      "text/plain": [
       "               AGG                                                     SPY  \\\n",
       "              open    high       low   close   volume daily_return    open   \n",
       "2020-11-06  117.81  117.86  117.6699  117.80  5106146          NaN  349.93   \n",
       "2020-11-09  117.40  117.47  117.0600  117.24  6073474    -0.004754  363.97   \n",
       "2020-11-10  117.05  117.23  117.0300  117.05  4663301    -0.001621  353.49   \n",
       "2020-11-11  117.06  117.18  117.0200  117.15  3001773     0.000854  356.40   \n",
       "2020-11-12  117.37  117.63  117.3300  117.62  7438935     0.004012  355.58   \n",
       "\n",
       "                                                              \n",
       "                high     low   close     volume daily_return  \n",
       "2020-11-06  351.5100  347.65  350.19   58137413          NaN  \n",
       "2020-11-09  364.3800  354.06  354.54  140613847     0.012422  \n",
       "2020-11-10  355.1800  350.51  354.07   69143380    -0.001326  \n",
       "2020-11-11  357.5600  355.06  356.62   45627772     0.007202  \n",
       "2020-11-12  356.7182  351.26  353.28   57393573    -0.009366  "
      ]
     },
     "execution_count": 48,
     "metadata": {},
     "output_type": "execute_result"
    }
   ],
   "source": [
    "# Printing the simulation input data\n",
    "MC_Portfolio.portfolio_data.head()"
   ]
  },
  {
   "cell_type": "code",
   "execution_count": 49,
   "metadata": {},
   "outputs": [
    {
     "name": "stdout",
     "output_type": "stream",
     "text": [
      "Running Monte Carlo simulation number 0.\n",
      "Running Monte Carlo simulation number 10.\n",
      "Running Monte Carlo simulation number 20.\n",
      "Running Monte Carlo simulation number 30.\n",
      "Running Monte Carlo simulation number 40.\n",
      "Running Monte Carlo simulation number 50.\n",
      "Running Monte Carlo simulation number 60.\n",
      "Running Monte Carlo simulation number 70.\n",
      "Running Monte Carlo simulation number 80.\n",
      "Running Monte Carlo simulation number 90.\n",
      "Running Monte Carlo simulation number 100.\n",
      "Running Monte Carlo simulation number 110.\n",
      "Running Monte Carlo simulation number 120.\n",
      "Running Monte Carlo simulation number 130.\n",
      "Running Monte Carlo simulation number 140.\n",
      "Running Monte Carlo simulation number 150.\n",
      "Running Monte Carlo simulation number 160.\n",
      "Running Monte Carlo simulation number 170.\n",
      "Running Monte Carlo simulation number 180.\n",
      "Running Monte Carlo simulation number 190.\n",
      "Running Monte Carlo simulation number 200.\n",
      "Running Monte Carlo simulation number 210.\n",
      "Running Monte Carlo simulation number 220.\n",
      "Running Monte Carlo simulation number 230.\n",
      "Running Monte Carlo simulation number 240.\n",
      "Running Monte Carlo simulation number 250.\n",
      "Running Monte Carlo simulation number 260.\n",
      "Running Monte Carlo simulation number 270.\n",
      "Running Monte Carlo simulation number 280.\n",
      "Running Monte Carlo simulation number 290.\n",
      "Running Monte Carlo simulation number 300.\n",
      "Running Monte Carlo simulation number 310.\n",
      "Running Monte Carlo simulation number 320.\n",
      "Running Monte Carlo simulation number 330.\n",
      "Running Monte Carlo simulation number 340.\n",
      "Running Monte Carlo simulation number 350.\n",
      "Running Monte Carlo simulation number 360.\n",
      "Running Monte Carlo simulation number 370.\n",
      "Running Monte Carlo simulation number 380.\n",
      "Running Monte Carlo simulation number 390.\n",
      "Running Monte Carlo simulation number 400.\n",
      "Running Monte Carlo simulation number 410.\n",
      "Running Monte Carlo simulation number 420.\n",
      "Running Monte Carlo simulation number 430.\n",
      "Running Monte Carlo simulation number 440.\n",
      "Running Monte Carlo simulation number 450.\n",
      "Running Monte Carlo simulation number 460.\n",
      "Running Monte Carlo simulation number 470.\n",
      "Running Monte Carlo simulation number 480.\n",
      "Running Monte Carlo simulation number 490.\n"
     ]
    },
    {
     "data": {
      "text/html": [
       "<div>\n",
       "<style scoped>\n",
       "    .dataframe tbody tr th:only-of-type {\n",
       "        vertical-align: middle;\n",
       "    }\n",
       "\n",
       "    .dataframe tbody tr th {\n",
       "        vertical-align: top;\n",
       "    }\n",
       "\n",
       "    .dataframe thead th {\n",
       "        text-align: right;\n",
       "    }\n",
       "</style>\n",
       "<table border=\"1\" class=\"dataframe\">\n",
       "  <thead>\n",
       "    <tr style=\"text-align: right;\">\n",
       "      <th></th>\n",
       "      <th>0</th>\n",
       "      <th>1</th>\n",
       "      <th>2</th>\n",
       "      <th>3</th>\n",
       "      <th>4</th>\n",
       "      <th>5</th>\n",
       "      <th>6</th>\n",
       "      <th>7</th>\n",
       "      <th>8</th>\n",
       "      <th>9</th>\n",
       "      <th>...</th>\n",
       "      <th>490</th>\n",
       "      <th>491</th>\n",
       "      <th>492</th>\n",
       "      <th>493</th>\n",
       "      <th>494</th>\n",
       "      <th>495</th>\n",
       "      <th>496</th>\n",
       "      <th>497</th>\n",
       "      <th>498</th>\n",
       "      <th>499</th>\n",
       "    </tr>\n",
       "  </thead>\n",
       "  <tbody>\n",
       "    <tr>\n",
       "      <th>0</th>\n",
       "      <td>1.000000</td>\n",
       "      <td>1.000000</td>\n",
       "      <td>1.000000</td>\n",
       "      <td>1.000000</td>\n",
       "      <td>1.000000</td>\n",
       "      <td>1.000000</td>\n",
       "      <td>1.000000</td>\n",
       "      <td>1.000000</td>\n",
       "      <td>1.000000</td>\n",
       "      <td>1.000000</td>\n",
       "      <td>...</td>\n",
       "      <td>1.000000</td>\n",
       "      <td>1.000000</td>\n",
       "      <td>1.000000</td>\n",
       "      <td>1.000000</td>\n",
       "      <td>1.000000</td>\n",
       "      <td>1.000000</td>\n",
       "      <td>1.000000</td>\n",
       "      <td>1.000000</td>\n",
       "      <td>1.000000</td>\n",
       "      <td>1.000000</td>\n",
       "    </tr>\n",
       "    <tr>\n",
       "      <th>1</th>\n",
       "      <td>0.997547</td>\n",
       "      <td>1.007057</td>\n",
       "      <td>1.000343</td>\n",
       "      <td>0.995905</td>\n",
       "      <td>0.993940</td>\n",
       "      <td>0.996363</td>\n",
       "      <td>0.995211</td>\n",
       "      <td>1.001782</td>\n",
       "      <td>0.991167</td>\n",
       "      <td>1.000837</td>\n",
       "      <td>...</td>\n",
       "      <td>0.998540</td>\n",
       "      <td>1.010243</td>\n",
       "      <td>0.990069</td>\n",
       "      <td>1.005822</td>\n",
       "      <td>0.997826</td>\n",
       "      <td>1.002353</td>\n",
       "      <td>1.005917</td>\n",
       "      <td>0.999190</td>\n",
       "      <td>0.995839</td>\n",
       "      <td>0.999150</td>\n",
       "    </tr>\n",
       "    <tr>\n",
       "      <th>2</th>\n",
       "      <td>0.992550</td>\n",
       "      <td>1.008665</td>\n",
       "      <td>0.996402</td>\n",
       "      <td>0.999783</td>\n",
       "      <td>0.989406</td>\n",
       "      <td>0.994250</td>\n",
       "      <td>0.993683</td>\n",
       "      <td>1.000253</td>\n",
       "      <td>1.003201</td>\n",
       "      <td>1.018492</td>\n",
       "      <td>...</td>\n",
       "      <td>0.997977</td>\n",
       "      <td>1.013749</td>\n",
       "      <td>0.990737</td>\n",
       "      <td>1.008422</td>\n",
       "      <td>0.999954</td>\n",
       "      <td>1.005317</td>\n",
       "      <td>1.015245</td>\n",
       "      <td>0.999239</td>\n",
       "      <td>0.998282</td>\n",
       "      <td>1.010112</td>\n",
       "    </tr>\n",
       "    <tr>\n",
       "      <th>3</th>\n",
       "      <td>0.999403</td>\n",
       "      <td>1.012363</td>\n",
       "      <td>1.002558</td>\n",
       "      <td>1.003730</td>\n",
       "      <td>0.992301</td>\n",
       "      <td>0.988936</td>\n",
       "      <td>0.989747</td>\n",
       "      <td>1.005995</td>\n",
       "      <td>0.999466</td>\n",
       "      <td>1.025962</td>\n",
       "      <td>...</td>\n",
       "      <td>1.001199</td>\n",
       "      <td>1.010602</td>\n",
       "      <td>0.983638</td>\n",
       "      <td>1.011277</td>\n",
       "      <td>1.003634</td>\n",
       "      <td>1.000813</td>\n",
       "      <td>1.023628</td>\n",
       "      <td>0.994423</td>\n",
       "      <td>1.000577</td>\n",
       "      <td>1.008272</td>\n",
       "    </tr>\n",
       "    <tr>\n",
       "      <th>4</th>\n",
       "      <td>0.996551</td>\n",
       "      <td>1.011961</td>\n",
       "      <td>0.996866</td>\n",
       "      <td>1.007552</td>\n",
       "      <td>0.992620</td>\n",
       "      <td>0.998466</td>\n",
       "      <td>0.988250</td>\n",
       "      <td>0.998680</td>\n",
       "      <td>0.995967</td>\n",
       "      <td>1.021881</td>\n",
       "      <td>...</td>\n",
       "      <td>0.995689</td>\n",
       "      <td>1.009765</td>\n",
       "      <td>0.985071</td>\n",
       "      <td>1.014809</td>\n",
       "      <td>0.998444</td>\n",
       "      <td>0.995381</td>\n",
       "      <td>1.028504</td>\n",
       "      <td>0.994394</td>\n",
       "      <td>1.004562</td>\n",
       "      <td>1.002527</td>\n",
       "    </tr>\n",
       "    <tr>\n",
       "      <th>...</th>\n",
       "      <td>...</td>\n",
       "      <td>...</td>\n",
       "      <td>...</td>\n",
       "      <td>...</td>\n",
       "      <td>...</td>\n",
       "      <td>...</td>\n",
       "      <td>...</td>\n",
       "      <td>...</td>\n",
       "      <td>...</td>\n",
       "      <td>...</td>\n",
       "      <td>...</td>\n",
       "      <td>...</td>\n",
       "      <td>...</td>\n",
       "      <td>...</td>\n",
       "      <td>...</td>\n",
       "      <td>...</td>\n",
       "      <td>...</td>\n",
       "      <td>...</td>\n",
       "      <td>...</td>\n",
       "      <td>...</td>\n",
       "      <td>...</td>\n",
       "    </tr>\n",
       "    <tr>\n",
       "      <th>7556</th>\n",
       "      <td>169.935382</td>\n",
       "      <td>237.001021</td>\n",
       "      <td>275.677508</td>\n",
       "      <td>213.038561</td>\n",
       "      <td>142.434999</td>\n",
       "      <td>194.858997</td>\n",
       "      <td>242.598922</td>\n",
       "      <td>154.074864</td>\n",
       "      <td>177.327811</td>\n",
       "      <td>126.717946</td>\n",
       "      <td>...</td>\n",
       "      <td>162.986383</td>\n",
       "      <td>221.785761</td>\n",
       "      <td>176.185571</td>\n",
       "      <td>351.942165</td>\n",
       "      <td>104.547878</td>\n",
       "      <td>196.139223</td>\n",
       "      <td>174.784547</td>\n",
       "      <td>171.555226</td>\n",
       "      <td>164.031198</td>\n",
       "      <td>214.790904</td>\n",
       "    </tr>\n",
       "    <tr>\n",
       "      <th>7557</th>\n",
       "      <td>170.924886</td>\n",
       "      <td>238.509945</td>\n",
       "      <td>277.735157</td>\n",
       "      <td>212.815977</td>\n",
       "      <td>142.229229</td>\n",
       "      <td>195.387939</td>\n",
       "      <td>242.090139</td>\n",
       "      <td>154.474972</td>\n",
       "      <td>177.562783</td>\n",
       "      <td>126.344180</td>\n",
       "      <td>...</td>\n",
       "      <td>162.665162</td>\n",
       "      <td>222.944564</td>\n",
       "      <td>175.590790</td>\n",
       "      <td>352.134895</td>\n",
       "      <td>105.756318</td>\n",
       "      <td>196.400318</td>\n",
       "      <td>174.121252</td>\n",
       "      <td>172.744702</td>\n",
       "      <td>162.679489</td>\n",
       "      <td>213.888897</td>\n",
       "    </tr>\n",
       "    <tr>\n",
       "      <th>7558</th>\n",
       "      <td>171.939250</td>\n",
       "      <td>237.536720</td>\n",
       "      <td>278.343441</td>\n",
       "      <td>213.193863</td>\n",
       "      <td>142.199465</td>\n",
       "      <td>196.428184</td>\n",
       "      <td>243.154488</td>\n",
       "      <td>154.082092</td>\n",
       "      <td>177.473460</td>\n",
       "      <td>125.470764</td>\n",
       "      <td>...</td>\n",
       "      <td>163.802158</td>\n",
       "      <td>225.529522</td>\n",
       "      <td>174.998404</td>\n",
       "      <td>351.829937</td>\n",
       "      <td>105.225978</td>\n",
       "      <td>196.955358</td>\n",
       "      <td>173.469416</td>\n",
       "      <td>172.431289</td>\n",
       "      <td>163.830420</td>\n",
       "      <td>212.796113</td>\n",
       "    </tr>\n",
       "    <tr>\n",
       "      <th>7559</th>\n",
       "      <td>172.809373</td>\n",
       "      <td>237.149002</td>\n",
       "      <td>276.012705</td>\n",
       "      <td>214.038890</td>\n",
       "      <td>142.195227</td>\n",
       "      <td>197.329676</td>\n",
       "      <td>243.502699</td>\n",
       "      <td>153.461516</td>\n",
       "      <td>178.625000</td>\n",
       "      <td>126.306152</td>\n",
       "      <td>...</td>\n",
       "      <td>163.649694</td>\n",
       "      <td>224.555502</td>\n",
       "      <td>174.320528</td>\n",
       "      <td>352.253007</td>\n",
       "      <td>105.887210</td>\n",
       "      <td>197.133724</td>\n",
       "      <td>173.361838</td>\n",
       "      <td>173.323814</td>\n",
       "      <td>165.726079</td>\n",
       "      <td>213.134668</td>\n",
       "    </tr>\n",
       "    <tr>\n",
       "      <th>7560</th>\n",
       "      <td>172.445543</td>\n",
       "      <td>236.178063</td>\n",
       "      <td>275.978150</td>\n",
       "      <td>215.963786</td>\n",
       "      <td>142.465008</td>\n",
       "      <td>196.184051</td>\n",
       "      <td>245.291842</td>\n",
       "      <td>153.163694</td>\n",
       "      <td>178.739662</td>\n",
       "      <td>125.900997</td>\n",
       "      <td>...</td>\n",
       "      <td>162.193985</td>\n",
       "      <td>225.575964</td>\n",
       "      <td>173.772612</td>\n",
       "      <td>352.856537</td>\n",
       "      <td>105.827100</td>\n",
       "      <td>198.196573</td>\n",
       "      <td>172.810802</td>\n",
       "      <td>174.208465</td>\n",
       "      <td>165.649925</td>\n",
       "      <td>213.811115</td>\n",
       "    </tr>\n",
       "  </tbody>\n",
       "</table>\n",
       "<p>7561 rows × 500 columns</p>\n",
       "</div>"
      ],
      "text/plain": [
       "             0           1           2           3           4           5    \\\n",
       "0       1.000000    1.000000    1.000000    1.000000    1.000000    1.000000   \n",
       "1       0.997547    1.007057    1.000343    0.995905    0.993940    0.996363   \n",
       "2       0.992550    1.008665    0.996402    0.999783    0.989406    0.994250   \n",
       "3       0.999403    1.012363    1.002558    1.003730    0.992301    0.988936   \n",
       "4       0.996551    1.011961    0.996866    1.007552    0.992620    0.998466   \n",
       "...          ...         ...         ...         ...         ...         ...   \n",
       "7556  169.935382  237.001021  275.677508  213.038561  142.434999  194.858997   \n",
       "7557  170.924886  238.509945  277.735157  212.815977  142.229229  195.387939   \n",
       "7558  171.939250  237.536720  278.343441  213.193863  142.199465  196.428184   \n",
       "7559  172.809373  237.149002  276.012705  214.038890  142.195227  197.329676   \n",
       "7560  172.445543  236.178063  275.978150  215.963786  142.465008  196.184051   \n",
       "\n",
       "             6           7           8           9    ...         490  \\\n",
       "0       1.000000    1.000000    1.000000    1.000000  ...    1.000000   \n",
       "1       0.995211    1.001782    0.991167    1.000837  ...    0.998540   \n",
       "2       0.993683    1.000253    1.003201    1.018492  ...    0.997977   \n",
       "3       0.989747    1.005995    0.999466    1.025962  ...    1.001199   \n",
       "4       0.988250    0.998680    0.995967    1.021881  ...    0.995689   \n",
       "...          ...         ...         ...         ...  ...         ...   \n",
       "7556  242.598922  154.074864  177.327811  126.717946  ...  162.986383   \n",
       "7557  242.090139  154.474972  177.562783  126.344180  ...  162.665162   \n",
       "7558  243.154488  154.082092  177.473460  125.470764  ...  163.802158   \n",
       "7559  243.502699  153.461516  178.625000  126.306152  ...  163.649694   \n",
       "7560  245.291842  153.163694  178.739662  125.900997  ...  162.193985   \n",
       "\n",
       "             491         492         493         494         495         496  \\\n",
       "0       1.000000    1.000000    1.000000    1.000000    1.000000    1.000000   \n",
       "1       1.010243    0.990069    1.005822    0.997826    1.002353    1.005917   \n",
       "2       1.013749    0.990737    1.008422    0.999954    1.005317    1.015245   \n",
       "3       1.010602    0.983638    1.011277    1.003634    1.000813    1.023628   \n",
       "4       1.009765    0.985071    1.014809    0.998444    0.995381    1.028504   \n",
       "...          ...         ...         ...         ...         ...         ...   \n",
       "7556  221.785761  176.185571  351.942165  104.547878  196.139223  174.784547   \n",
       "7557  222.944564  175.590790  352.134895  105.756318  196.400318  174.121252   \n",
       "7558  225.529522  174.998404  351.829937  105.225978  196.955358  173.469416   \n",
       "7559  224.555502  174.320528  352.253007  105.887210  197.133724  173.361838   \n",
       "7560  225.575964  173.772612  352.856537  105.827100  198.196573  172.810802   \n",
       "\n",
       "             497         498         499  \n",
       "0       1.000000    1.000000    1.000000  \n",
       "1       0.999190    0.995839    0.999150  \n",
       "2       0.999239    0.998282    1.010112  \n",
       "3       0.994423    1.000577    1.008272  \n",
       "4       0.994394    1.004562    1.002527  \n",
       "...          ...         ...         ...  \n",
       "7556  171.555226  164.031198  214.790904  \n",
       "7557  172.744702  162.679489  213.888897  \n",
       "7558  172.431289  163.830420  212.796113  \n",
       "7559  173.323814  165.726079  213.134668  \n",
       "7560  174.208465  165.649925  213.811115  \n",
       "\n",
       "[7561 rows x 500 columns]"
      ]
     },
     "execution_count": 49,
     "metadata": {},
     "output_type": "execute_result"
    }
   ],
   "source": [
    "# Running a Monte Carlo simulation to forecast 30 years cumulative returns\n",
    "MC_Portfolio.calc_cumulative_return()"
   ]
  },
  {
   "cell_type": "code",
   "execution_count": 50,
   "metadata": {},
   "outputs": [
    {
     "data": {
      "image/png": "[encoded data removed]",
      "text/plain": [
       "<Figure size 432x288 with 1 Axes>"
      ]
     },
     "metadata": {
      "needs_background": "light"
     },
     "output_type": "display_data"
    }
   ],
   "source": [
    "# Plot simulation outcomes\n",
    "line_plot = MC_Portfolio.plot_simulation()"
   ]
  },
  {
   "cell_type": "code",
   "execution_count": 51,
   "metadata": {},
   "outputs": [
    {
     "data": {
      "image/png": "[encoded data removed]",
      "text/plain": [
       "<Figure size 432x288 with 1 Axes>"
      ]
     },
     "metadata": {
      "needs_background": "light"
     },
     "output_type": "display_data"
    }
   ],
   "source": [
    "# Plot probability distribution and confidence intervals\n",
    "dist_plot = MC_Portfolio.plot_distribution()"
   ]
  },
  {
   "cell_type": "markdown",
   "metadata": {},
   "source": [
    "### Retirement Analysis"
   ]
  },
  {
   "cell_type": "code",
   "execution_count": 53,
   "metadata": {},
   "outputs": [
    {
     "name": "stdout",
     "output_type": "stream",
     "text": [
      "count           500.000000\n",
      "mean            210.308948\n",
      "std             107.515898\n",
      "min              56.861932\n",
      "25%             139.039674\n",
      "50%             182.118360\n",
      "75%             253.061473\n",
      "max             822.270164\n",
      "95% CI Lower     79.598923\n",
      "95% CI Upper    498.370087\n",
      "Name: 7560, dtype: float64\n"
     ]
    }
   ],
   "source": [
    "# Fetch summary statistics from the Monte Carlo simulation results\n",
    "even_tbl = MC_Portfolio.summarize_cumulative_return()\n",
    "\n",
    "# Print summary statistics\n",
    "print(even_tbl)"
   ]
  },
  {
   "cell_type": "markdown",
   "metadata": {},
   "source": [
    "### Calculate the expected portfolio return at the 95% lower and upper confidence intervals based on a `$20,000` initial investment."
   ]
  },
  {
   "cell_type": "code",
   "execution_count": 58,
   "metadata": {},
   "outputs": [
    {
     "name": "stdout",
     "output_type": "stream",
     "text": [
      "There is a 95% chance that an initial investment of $20000 in the portfolio over the next 30 years will end within in the range of $1591978.47 and $9967401.73\n"
     ]
    }
   ],
   "source": [
    "# Set initial investment\n",
    "initial_investment = 20000\n",
    "\n",
    "ci_lower = round(even_tbl[8]*20000,2)\n",
    "ci_upper = round(even_tbl[9]*20000,2)\n",
    "\n",
    "# Print results\n",
    "print(f\"There is a 95% chance that an initial investment of ${initial_investment} in the portfolio\"\n",
    "      f\" over the next 30 years will end within in the range of\"\n",
    "      f\" ${ci_lower} and ${ci_upper}\")"
   ]
  },
  {
   "cell_type": "markdown",
   "metadata": {},
   "source": [
    "### Calculate the expected portfolio return at the `95%` lower and upper confidence intervals based on a `50%` increase in the initial investment."
   ]
  },
  {
   "cell_type": "code",
   "execution_count": 59,
   "metadata": {},
   "outputs": [
    {
     "name": "stdout",
     "output_type": "stream",
     "text": [
      "There is a 95% chance that an initial investment of $30000.0 in the portfolio over the next 30 years will end within in the range of $2387967.7 and $14951102.6\n"
     ]
    }
   ],
   "source": [
    "# Set initial investment\n",
    "initial_investment = 20000 * 1.5\n",
    "\n",
    "# Use the lower and upper `95%` confidence intervals to calculate the range of the possible outcomes of our $30,000\n",
    "ci_lower = round(even_tbl[8]*30000,2)\n",
    "ci_upper = round(even_tbl[9]*30000,2)\n",
    "\n",
    "# Print results\n",
    "print(f\"There is a 95% chance that an initial investment of ${initial_investment} in the portfolio\"\n",
    "      f\" over the next 30 years will end within in the range of\"\n",
    "      f\" ${ci_lower} and ${ci_upper}\")"
   ]
  },
  {
   "cell_type": "markdown",
   "metadata": {},
   "source": [
    "## Optional Challenge - Early Retirement\n",
    "\n",
    "\n",
    "### Five Years Retirement Option"
   ]
  },
  {
   "cell_type": "code",
   "execution_count": null,
   "metadata": {},
   "outputs": [],
   "source": [
    "# Configuring a Monte Carlo simulation to forecast 5 years cumulative returns\n",
    "# YOUR CODE HERE!"
   ]
  },
  {
   "cell_type": "code",
   "execution_count": null,
   "metadata": {},
   "outputs": [],
   "source": [
    "# Running a Monte Carlo simulation to forecast 5 years cumulative returns\n",
    "# YOUR CODE HERE!"
   ]
  },
  {
   "cell_type": "code",
   "execution_count": null,
   "metadata": {},
   "outputs": [],
   "source": [
    "# Plot simulation outcomes\n",
    "# YOUR CODE HERE!"
   ]
  },
  {
   "cell_type": "code",
   "execution_count": null,
   "metadata": {},
   "outputs": [],
   "source": [
    "# Plot probability distribution and confidence intervals\n",
    "# YOUR CODE HERE!"
   ]
  },
  {
   "cell_type": "code",
   "execution_count": null,
   "metadata": {},
   "outputs": [],
   "source": [
    "# Fetch summary statistics from the Monte Carlo simulation results\n",
    "# YOUR CODE HERE!\n",
    "\n",
    "# Print summary statistics\n",
    "# YOUR CODE HERE!"
   ]
  },
  {
   "cell_type": "code",
   "execution_count": null,
   "metadata": {},
   "outputs": [],
   "source": [
    "# Set initial investment\n",
    "# YOUR CODE HERE!\n",
    "\n",
    "# Use the lower and upper `95%` confidence intervals to calculate the range of the possible outcomes of our $60,000\n",
    "# YOUR CODE HERE!\n",
    "\n",
    "# Print results\n",
    "print(f\"There is a 95% chance that an initial investment of ${initial_investment} in the portfolio\"\n",
    "      f\" over the next 5 years will end within in the range of\"\n",
    "      f\" ${ci_lower_five} and ${ci_upper_five}\")"
   ]
  },
  {
   "cell_type": "markdown",
   "metadata": {},
   "source": [
    "### Ten Years Retirement Option"
   ]
  },
  {
   "cell_type": "code",
   "execution_count": null,
   "metadata": {},
   "outputs": [],
   "source": [
    "# Configuring a Monte Carlo simulation to forecast 10 years cumulative returns\n",
    "# YOUR CODE HERE!"
   ]
  },
  {
   "cell_type": "code",
   "execution_count": null,
   "metadata": {},
   "outputs": [],
   "source": [
    "# Running a Monte Carlo simulation to forecast 10 years cumulative returns\n",
    "# YOUR CODE HERE!"
   ]
  },
  {
   "cell_type": "code",
   "execution_count": null,
   "metadata": {},
   "outputs": [],
   "source": [
    "# Plot simulation outcomes\n",
    "# YOUR CODE HERE!"
   ]
  },
  {
   "cell_type": "code",
   "execution_count": null,
   "metadata": {},
   "outputs": [],
   "source": [
    "# Plot probability distribution and confidence intervals\n",
    "# YOUR CODE HERE!"
   ]
  },
  {
   "cell_type": "code",
   "execution_count": null,
   "metadata": {},
   "outputs": [],
   "source": [
    "# Fetch summary statistics from the Monte Carlo simulation results\n",
    "# YOUR CODE HERE!\n",
    "\n",
    "# Print summary statistics\n",
    "# YOUR CODE HERE!"
   ]
  },
  {
   "cell_type": "code",
   "execution_count": null,
   "metadata": {},
   "outputs": [],
   "source": [
    "# Set initial investment\n",
    "# YOUR CODE HERE!\n",
    "\n",
    "# Use the lower and upper `95%` confidence intervals to calculate the range of the possible outcomes of our $60,000\n",
    "# YOUR CODE HERE!\n",
    "\n",
    "# Print results\n",
    "print(f\"There is a 95% chance that an initial investment of ${initial_investment} in the portfolio\"\n",
    "      f\" over the next 10 years will end within in the range of\"\n",
    "      f\" ${ci_lower_ten} and ${ci_upper_ten}\")"
   ]
  }
 ],
 "metadata": {
  "kernelspec": {
   "display_name": "Python 3",
   "language": "python",
   "name": "python3"
  },
  "language_info": {
   "codemirror_mode": {
    "name": "ipython",
    "version": 3
   },
   "file_extension": ".py",
   "mimetype": "text/x-python",
   "name": "python",
   "nbconvert_exporter": "python",
   "pygments_lexer": "ipython3",
   "version": "3.8.5"
  }
 },
 "nbformat": 4,
 "nbformat_minor": 4
}
